{
 "cells": [
  {
   "cell_type": "markdown",
   "metadata": {},
   "source": [
    "## T-Test Code"
   ]
  },
  {
   "cell_type": "code",
   "execution_count": 3,
   "metadata": {},
   "outputs": [],
   "source": [
    "import numpy as np\n",
    "from scipy import stats"
   ]
  },
  {
   "cell_type": "code",
   "execution_count": 4,
   "metadata": {},
   "outputs": [],
   "source": [
    "N = 10 # number of samples\n",
    "a = np.random.randn(N) + 2 # 10 samples from gaussian dist. with mean 2\n",
    "b = np.random.randn(N) # 10 samples from gaussian dist (normal)"
   ]
  },
  {
   "cell_type": "code",
   "execution_count": 5,
   "metadata": {},
   "outputs": [],
   "source": [
    "var_a = a.var(ddof=1) # unbiased estimates , N-1 in deno (ddof=1)\n",
    "var_b = b.var(ddof=1) #"
   ]
  },
  {
   "cell_type": "code",
   "execution_count": 6,
   "metadata": {},
   "outputs": [],
   "source": [
    "s = np.sqrt((var_a + var_b)/2)\n",
    "t = (a.mean() - b.mean()) / (s * np.sqrt(2.0/N))\n",
    "df = 2*N - 2"
   ]
  },
  {
   "cell_type": "code",
   "execution_count": 7,
   "metadata": {},
   "outputs": [
    {
     "name": "stdout",
     "output_type": "stream",
     "text": [
      "t is 2.4319257426241356, p is 0.012841862066055976\n"
     ]
    }
   ],
   "source": [
    "p = 1 - stats.t.cdf(t, df=df)\n",
    "print(\"t is {}, p is {}\".format(t, p))"
   ]
  },
  {
   "cell_type": "code",
   "execution_count": 8,
   "metadata": {},
   "outputs": [
    {
     "name": "stdout",
     "output_type": "stream",
     "text": [
      "t is 2.4319257426241356, p is 0.025683724132112066\n"
     ]
    }
   ],
   "source": [
    "## checking from scipy function\n",
    "t2, p2 = stats.ttest_ind(a, b)\n",
    "print(\"t is {}, p is {}\".format(t2, p2))"
   ]
  },
  {
   "cell_type": "markdown",
   "metadata": {},
   "source": [
    "## CTR T-Test"
   ]
  },
  {
   "cell_type": "code",
   "execution_count": 20,
   "metadata": {},
   "outputs": [],
   "source": [
    "import pandas as pd"
   ]
  },
  {
   "cell_type": "code",
   "execution_count": 21,
   "metadata": {},
   "outputs": [],
   "source": [
    "df = pd.read_csv(\"advertisement_clicks.csv\")"
   ]
  },
  {
   "cell_type": "code",
   "execution_count": 22,
   "metadata": {},
   "outputs": [
    {
     "data": {
      "text/html": [
       "<div>\n",
       "<style scoped>\n",
       "    .dataframe tbody tr th:only-of-type {\n",
       "        vertical-align: middle;\n",
       "    }\n",
       "\n",
       "    .dataframe tbody tr th {\n",
       "        vertical-align: top;\n",
       "    }\n",
       "\n",
       "    .dataframe thead th {\n",
       "        text-align: right;\n",
       "    }\n",
       "</style>\n",
       "<table border=\"1\" class=\"dataframe\">\n",
       "  <thead>\n",
       "    <tr style=\"text-align: right;\">\n",
       "      <th></th>\n",
       "      <th>advertisement_id</th>\n",
       "      <th>action</th>\n",
       "    </tr>\n",
       "  </thead>\n",
       "  <tbody>\n",
       "    <tr>\n",
       "      <th>0</th>\n",
       "      <td>B</td>\n",
       "      <td>1</td>\n",
       "    </tr>\n",
       "    <tr>\n",
       "      <th>1</th>\n",
       "      <td>B</td>\n",
       "      <td>1</td>\n",
       "    </tr>\n",
       "    <tr>\n",
       "      <th>2</th>\n",
       "      <td>A</td>\n",
       "      <td>0</td>\n",
       "    </tr>\n",
       "    <tr>\n",
       "      <th>3</th>\n",
       "      <td>B</td>\n",
       "      <td>0</td>\n",
       "    </tr>\n",
       "    <tr>\n",
       "      <th>4</th>\n",
       "      <td>A</td>\n",
       "      <td>1</td>\n",
       "    </tr>\n",
       "  </tbody>\n",
       "</table>\n",
       "</div>"
      ],
      "text/plain": [
       "  advertisement_id  action\n",
       "0                B       1\n",
       "1                B       1\n",
       "2                A       0\n",
       "3                B       0\n",
       "4                A       1"
      ]
     },
     "execution_count": 22,
     "metadata": {},
     "output_type": "execute_result"
    }
   ],
   "source": [
    "df.head()"
   ]
  },
  {
   "cell_type": "code",
   "execution_count": 28,
   "metadata": {},
   "outputs": [
    {
     "data": {
      "text/plain": [
       "(2000, 2)"
      ]
     },
     "execution_count": 28,
     "metadata": {},
     "output_type": "execute_result"
    }
   ],
   "source": [
    "df.shape"
   ]
  },
  {
   "cell_type": "code",
   "execution_count": 23,
   "metadata": {},
   "outputs": [],
   "source": [
    "actions_A = df.loc[df[\"advertisement_id\"] == \"A\", \"action\"].values\n",
    "actions_B = df.loc[df[\"advertisement_id\"] == \"B\", \"action\"].values"
   ]
  },
  {
   "cell_type": "code",
   "execution_count": 27,
   "metadata": {},
   "outputs": [
    {
     "data": {
      "text/plain": [
       "(1000,)"
      ]
     },
     "execution_count": 27,
     "metadata": {},
     "output_type": "execute_result"
    }
   ],
   "source": [
    "actions_B.shape"
   ]
  },
  {
   "cell_type": "code",
   "execution_count": 35,
   "metadata": {},
   "outputs": [],
   "source": [
    "## Assumed equal standard deviation for A and B\n",
    "t, p = stats.ttest_ind(actions_A, actions_B)"
   ]
  },
  {
   "cell_type": "code",
   "execution_count": 36,
   "metadata": {},
   "outputs": [
    {
     "data": {
      "text/plain": [
       "-3.2211732138019786"
      ]
     },
     "execution_count": 36,
     "metadata": {},
     "output_type": "execute_result"
    }
   ],
   "source": [
    "t"
   ]
  },
  {
   "cell_type": "code",
   "execution_count": 37,
   "metadata": {},
   "outputs": [
    {
     "data": {
      "text/plain": [
       "0.0012971905467125246"
      ]
     },
     "execution_count": 37,
     "metadata": {},
     "output_type": "execute_result"
    }
   ],
   "source": [
    "p"
   ]
  },
  {
   "cell_type": "code",
   "execution_count": 39,
   "metadata": {},
   "outputs": [
    {
     "name": "stdout",
     "output_type": "stream",
     "text": [
      "Welch's t-test:\n",
      "t:\t 2.43192574262 p:\t 0.0258491828991\n"
     ]
    }
   ],
   "source": [
    "## For Welch test, standard deviations are not the same\n",
    "# For manual code, see the repo (coded that big formula)\n",
    "t, p = stats.ttest_ind(a, b, equal_var=False)\n",
    "print(\"Welch's t-test:\")\n",
    "print(\"t:\\t\", t, \"p:\\t\", p)"
   ]
  },
  {
   "cell_type": "markdown",
   "metadata": {},
   "source": [
    "## Chi-Squared Test"
   ]
  },
  {
   "cell_type": "code",
   "execution_count": 55,
   "metadata": {},
   "outputs": [],
   "source": [
    "import numpy as np\n",
    "import matplotlib.pyplot as plt\n",
    "from scipy.stats import chi2"
   ]
  },
  {
   "cell_type": "code",
   "execution_count": 58,
   "metadata": {},
   "outputs": [],
   "source": [
    "class DataGenerator:\n",
    "    def __init__(self, p1, p2):\n",
    "        self.p1 = p1\n",
    "        self.p2 = p2\n",
    "        \n",
    "    def next(self):\n",
    "        click1 = 1 if (np.random.random() < self.p1) else 0\n",
    "        click2 = 1 if (np.random.random() < self.p2) else 0\n",
    "        return click1, click2\n",
    "    \n",
    "def get_p_value(T):\n",
    "    # given the matrix or contingency table , see the formula for Chi2 Statistic\n",
    "    det = T[0, 0]*T[1, 1] - T[0, 1]*T[1, 0]\n",
    "    c2 = float(det) / T[0].sum() * det / T[1].sum() * T.sum() / T[:, 0].sum() / T[:, 1].sum()\n",
    "    p = 1 - chi2.cdf(x=c2, df=1)\n",
    "    return p\n",
    "    \n",
    "def run_experiment(p1, p2, N):\n",
    "    data = DataGenerator(p1, p2)\n",
    "    p_values = np.empty(N)\n",
    "    T = np.zeros((2, 2)).astype(np.float32)\n",
    "    for i in range(N):\n",
    "        c1, c2 = data.next()\n",
    "        T[0, c1] += 1\n",
    "        T[1, c2] += 1\n",
    "        if i < 10:\n",
    "            p_values[i] = None\n",
    "        else:\n",
    "            p_values[i] = get_p_value(T)\n",
    "    print(T)\n",
    "    plt.plot(p_values)\n",
    "    plt.plot(np.ones(N)*0.05)\n",
    "    plt.show()"
   ]
  },
  {
   "cell_type": "code",
   "execution_count": 59,
   "metadata": {},
   "outputs": [
    {
     "name": "stdout",
     "output_type": "stream",
     "text": [
      "[[ 18016.   1984.]\n",
      " [ 17853.   2147.]]\n"
     ]
    },
    {
     "data": {
      "image/png": "[encoded data removed]",
      "text/plain": [
       "<Figure size 432x288 with 1 Axes>"
      ]
     },
     "metadata": {},
     "output_type": "display_data"
    }
   ],
   "source": [
    "run_experiment(0.1, 0.11, 20000)"
   ]
  },
  {
   "cell_type": "markdown",
   "metadata": {},
   "source": [
    "## Chi-2 test, advertisements_clicks.csv"
   ]
  },
  {
   "cell_type": "markdown",
   "metadata": {},
   "source": [
    "** Used for CTR or Conversion, when the distribution is not gaussian **"
   ]
  },
  {
   "cell_type": "markdown",
   "metadata": {},
   "source": [
    "** Best part about using contingency tables is that you actually don't need the sample sizes to be comaparable for the distributions and can work with varied sample sizes for the different distributions **"
   ]
  },
  {
   "cell_type": "code",
   "execution_count": 75,
   "metadata": {},
   "outputs": [],
   "source": [
    "import pandas as pd"
   ]
  },
  {
   "cell_type": "code",
   "execution_count": 76,
   "metadata": {},
   "outputs": [],
   "source": [
    "df = pd.read_csv(\"advertisement_clicks.csv\")"
   ]
  },
  {
   "cell_type": "code",
   "execution_count": 77,
   "metadata": {},
   "outputs": [],
   "source": [
    "actions_A = df.loc[df[\"advertisement_id\"]==\"A\", \"action\"].values\n",
    "actions_B = df.loc[df[\"advertisement_id\"]==\"B\", \"action\"].values"
   ]
  },
  {
   "cell_type": "code",
   "execution_count": 81,
   "metadata": {},
   "outputs": [],
   "source": [
    "actions_A_click = np.sum(actions_A)\n",
    "actions_A_no_click = np.size(actions_A) - np.sum(actions_A)\n",
    "actions_B_click = np.sum(actions_B)\n",
    "actions_B_no_click = np.size(actions_B) - np.sum(actions_B)"
   ]
  },
  {
   "cell_type": "code",
   "execution_count": 82,
   "metadata": {},
   "outputs": [
    {
     "data": {
      "text/plain": [
       "array([[304, 696],\n",
       "       [372, 628]])"
      ]
     },
     "execution_count": 82,
     "metadata": {},
     "output_type": "execute_result"
    }
   ],
   "source": [
    "T = np.array([[actions_A_click, actions_A_no_click], [actions_B_click, actions_B_no_click]])\n",
    "T"
   ]
  },
  {
   "cell_type": "code",
   "execution_count": 83,
   "metadata": {},
   "outputs": [
    {
     "name": "stdout",
     "output_type": "stream",
     "text": [
      "0.00130695027321\n"
     ]
    }
   ],
   "source": [
    "def get_p_value(T):\n",
    "    # given the matrix or contingency table , see the formula for Chi2 Statistic\n",
    "    det = T[0, 0]*T[1, 1] - T[0, 1]*T[1, 0]\n",
    "    c2 = float(det) / T[0].sum() * det / T[1].sum() * T.sum() / T[:, 0].sum() / T[:, 1].sum()\n",
    "    p = 1 - chi2.cdf(x=c2, df=1)\n",
    "    return p\n",
    "print(get_p_value(T))"
   ]
  },
  {
   "cell_type": "code",
   "execution_count": null,
   "metadata": {},
   "outputs": [],
   "source": []
  }
 ],
 "metadata": {
  "kernelspec": {
   "display_name": "Python 3",
   "language": "python",
   "name": "python3"
  },
  "language_info": {
   "codemirror_mode": {
    "name": "ipython",
    "version": 3
   },
   "file_extension": ".py",
   "mimetype": "text/x-python",
   "name": "python",
   "nbconvert_exporter": "python",
   "pygments_lexer": "ipython3",
   "version": "3.6.5"
  }
 },
 "nbformat": 4,
 "nbformat_minor": 2
}
